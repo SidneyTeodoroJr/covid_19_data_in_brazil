{
 "cells": [
  {
   "cell_type": "code",
   "execution_count": null,
   "metadata": {},
   "outputs": [],
   "source": [
    "# Casos Confirmados COVID-19\n",
    "\n",
    "import pandas as pd\n",
    "from urllib.request import urlretrieve \n",
    "import matplotlib.pyplot as plt"
   ]
  },
  {
   "cell_type": "code",
   "execution_count": null,
   "metadata": {},
   "outputs": [],
   "source": [
    "# Criando a variável\n",
    "url = 'https://raw.githubusercontent.com/CSSEGISandData/COVID-19/master/csse_covid_19_data/csse_covid_19_time_series/time_series_covid19_deaths_global.csv'\n",
    "\n",
    "# Baixando arquivo CSV\n",
    "urlretrieve(url, 'datasets/global_cases_covid19.csv')"
   ]
  },
  {
   "cell_type": "code",
   "execution_count": null,
   "metadata": {},
   "outputs": [],
   "source": [
    "df_covid = pd.read_csv('datasets/global_cases_covid19.csv')"
   ]
  },
  {
   "cell_type": "code",
   "execution_count": null,
   "metadata": {},
   "outputs": [],
   "source": [
    "df_covid.drop(['Lat', 'Long'], axis=1, inplace=True)\n",
    "\n",
    "# Agrupar dados dos países\n",
    "df_country = df_covid.groupby('Country/Region').sum()\n",
    "df_country\n",
    "# Acessar as linhas\n",
    "df_country.loc['Brazil']"
   ]
  },
  {
   "cell_type": "code",
   "execution_count": null,
   "metadata": {},
   "outputs": [],
   "source": [
    "date = df_country.loc['Brazil'].index\n",
    "cases = df_country.loc['Brazil'].values\n",
    "\n",
    "cases"
   ]
  },
  {
   "cell_type": "code",
   "execution_count": null,
   "metadata": {},
   "outputs": [],
   "source": [
    "plt.figure(figsize=(10,5))\n",
    "plt.bar(date, cases)"
   ]
  },
  {
   "cell_type": "code",
   "execution_count": null,
   "metadata": {},
   "outputs": [],
   "source": [
    "df_country.head()"
   ]
  },
  {
   "cell_type": "code",
   "execution_count": null,
   "metadata": {},
   "outputs": [],
   "source": [
    "s_brazil = df_country.loc['Brazil']\n",
    "s_brazil\n",
    "s_brazil = s_brazil[s_brazil > 0]\n",
    "\n",
    "s_brazil"
   ]
  },
  {
   "cell_type": "code",
   "execution_count": null,
   "metadata": {},
   "outputs": [],
   "source": [
    "s_brazil.index\n",
    "s_brazil.values"
   ]
  },
  {
   "cell_type": "code",
   "execution_count": null,
   "metadata": {},
   "outputs": [],
   "source": [
    "tam = len(s_brazil)\n",
    "\n",
    "plt.figure(figsize=(14,5))\n",
    "plt.xticks(rotation=60)\n",
    "plt.bar(s_brazil.index[tam-45:tam], s_brazil.values[tam-45:tam])\n",
    "plt.title('Total de casos confirmados da COVID-19 no Brasil')"
   ]
  }
 ],
 "metadata": {
  "kernelspec": {
   "display_name": "Python 3",
   "language": "python",
   "name": "python3"
  },
  "language_info": {
   "codemirror_mode": {
    "name": "ipython",
    "version": 3
   },
   "file_extension": ".py",
   "mimetype": "text/x-python",
   "name": "python",
   "nbconvert_exporter": "python",
   "pygments_lexer": "ipython3",
   "version": "3.11.3"
  }
 },
 "nbformat": 4,
 "nbformat_minor": 2
}
